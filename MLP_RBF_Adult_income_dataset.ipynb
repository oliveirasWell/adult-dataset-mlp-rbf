{
  "nbformat": 4,
  "nbformat_minor": 0,
  "metadata": {
    "colab": {
      "name": "MLP - RBF Adult income dataset ",
      "provenance": [],
      "collapsed_sections": [],
      "include_colab_link": true
    },
    "kernelspec": {
      "name": "ir",
      "display_name": "R"
    },
    "language_info": {
      "name": "R"
    }
  },
  "cells": [
    {
      "cell_type": "markdown",
      "metadata": {
        "id": "view-in-github",
        "colab_type": "text"
      },
      "source": [
        "<a href=\"https://colab.research.google.com/github/oliveirasWell/mlp/blob/master/MLP_RBF_Adult_income_dataset.ipynb\" target=\"_parent\"><img src=\"https://colab.research.google.com/assets/colab-badge.svg\" alt=\"Open In Colab\"/></a>"
      ]
    },
    {
      "cell_type": "code",
      "metadata": {
        "id": "PWx025bpND8x"
      },
      "source": [
        "# Wellington de Oliveira dos Santos\n",
        "# Adult Data Set\n",
        "#\n",
        "# http://www.cs.toronto.edu/~delve/data/adult/desc.html\n",
        "#\n",
        "# \n",
        "#\n",
        "#"
      ],
      "execution_count": 2,
      "outputs": []
    },
    {
      "cell_type": "code",
      "metadata": {
        "id": "E2cEuwkW6mTP",
        "colab": {
          "base_uri": "https://localhost:8080/"
        },
        "outputId": "6c8b2fa1-0f63-4425-fbd0-d51c0d823206"
      },
      "source": [
        "install.packages(\"reshape2\")\n",
        "install.packages(\"Hmisc\")\n",
        "library(reshape2)\n",
        "library(Hmisc)"
      ],
      "execution_count": 3,
      "outputs": [
        {
          "output_type": "stream",
          "text": [
            "Installing package into ‘/usr/local/lib/R/site-library’\n",
            "(as ‘lib’ is unspecified)\n",
            "\n",
            "Installing package into ‘/usr/local/lib/R/site-library’\n",
            "(as ‘lib’ is unspecified)\n",
            "\n",
            "Loading required package: lattice\n",
            "\n",
            "Loading required package: survival\n",
            "\n",
            "Loading required package: Formula\n",
            "\n",
            "Loading required package: ggplot2\n",
            "\n",
            "\n",
            "Attaching package: ‘Hmisc’\n",
            "\n",
            "\n",
            "The following objects are masked from ‘package:base’:\n",
            "\n",
            "    format.pval, units\n",
            "\n",
            "\n"
          ],
          "name": "stderr"
        }
      ]
    },
    {
      "cell_type": "code",
      "metadata": {
        "id": "GKy4ApHpRMD-"
      },
      "source": [
        "quantidade.colunas <- function(matriz){\n",
        "  return(ncol(t(t(matriz))))\n",
        "}"
      ],
      "execution_count": 4,
      "outputs": []
    },
    {
      "cell_type": "code",
      "metadata": {
        "id": "fxOznqsHN1ML"
      },
      "source": [
        "# Primeiro vamos implementar uma função de ativação\n",
        "funcao.ativacao <- function(v){\n",
        "\n",
        "  # Função logística\n",
        "  y <- 1 / (1 + exp(-v))\n",
        "\n",
        "  return(y)\n",
        "}"
      ],
      "execution_count": 5,
      "outputs": []
    },
    {
      "cell_type": "code",
      "metadata": {
        "id": "XoxyXy5GN3nK"
      },
      "source": [
        "# Vamos também precisar da derivada da função de ativação\n",
        "der.funcao.ativacao <- function(y){\n",
        "\n",
        "  # Derivada da logística\n",
        "  derivada <- y * (1 - y)\n",
        "\n",
        "  return(derivada)\n",
        "}"
      ],
      "execution_count": 6,
      "outputs": []
    },
    {
      "cell_type": "code",
      "metadata": {
        "id": "6zzYhxc3N8y0"
      },
      "source": [
        "# Vamos criar uma arquitetura para nossa MLP\n",
        "arquitetura <- function(num.entrada, num.escondida, num.saida,\n",
        "                        funcao.ativacao, der.funcao.ativacao){\n",
        "\n",
        "  arq <- list()\n",
        "\n",
        "  # Parametros da rede    \n",
        "  arq$num.entrada <- num.entrada\n",
        "  arq$num.escondida <- num.escondida\n",
        "  arq$num.saida <- num.saida\n",
        "  arq$funcao.ativacao <- funcao.ativacao\n",
        "  arq$der.funcao.ativacao <- der.funcao.ativacao\n",
        "\n",
        "  # 2 neuronios na camada escondida\n",
        "  # \n",
        "  #       Ent1    Ent2   Bias \n",
        "  # 1     w11     w12    w13\n",
        "  # 2     w21     w22    w23\n",
        "\n",
        "  # Pesos conectando entrada e escondida\n",
        "  num.pesos.entrada.escondida <- (num.entrada+1)*num.escondida\n",
        "  arq$escondida <- matrix(runif(min=-0.5,max=0.5, num.pesos.entrada.escondida),\n",
        "                                nrow=num.escondida, ncol=num.entrada+1)\n",
        "\n",
        "  # Pesos conectando escondida e saida\n",
        "  num.pesos.escondida.saida <- (num.escondida+1)*num.saida\n",
        "  arq$saida <- matrix(runif(min=-0.5,max=0.5,  num.pesos.escondida.saida),\n",
        "                            nrow=num.saida, ncol=num.escondida+1)\n",
        "\n",
        "\n",
        "  return(arq)\n",
        "}"
      ],
      "execution_count": 7,
      "outputs": []
    },
    {
      "cell_type": "code",
      "metadata": {
        "id": "bxehv6cnOSAK"
      },
      "source": [
        "# Precisamos de um código para a fase de propagação da MLP\n",
        "\n",
        "mlp.propagacao <- function(arq, exemplo){\n",
        "\n",
        "  # Entrada -> Cama Escondida\n",
        "  v.entrada.escondida <- arq$escondida %*% as.numeric(c(exemplo,1))\n",
        "  y.entrada.escondida <- arq$funcao.ativacao(v.entrada.escondida)\n",
        "\n",
        "  # Camada Escondida -> Camada de Saida\n",
        "  v.escondida.saida <- arq$saida %*% c(y.entrada.escondida,1)\n",
        "  y.escondida.saida <- arq$funcao.ativacao(v.escondida.saida)\n",
        "\n",
        "  # Resultados\n",
        "  resultado <- list()\n",
        "  resultado$v.entrada.escondida <- v.entrada.escondida\n",
        "  resultado$y.entrada.escondida <- y.entrada.escondida\n",
        "  resultado$v.escondida.saida <- v.escondida.saida\n",
        "  resultado$y.escondida.saida <- y.escondida.saida\n",
        "\n",
        "  return(resultado)\n",
        "}\n"
      ],
      "execution_count": 8,
      "outputs": []
    },
    {
      "cell_type": "code",
      "metadata": {
        "id": "jtRlyK2rX-fQ"
      },
      "source": [
        "# Agora o código para a fase de treinamento da MLP, usando o algoritmo Back-propagation\n",
        "mlp.retropropagacao <- function(arq, dados, n, limiar){\n",
        "\n",
        "  erroQuadratico <- 2 * limiar\n",
        "  epocas <- 0\n",
        "\n",
        "  # Treina eqto o erro quadratico for maior que um limiar\n",
        "  while(erroQuadratico > limiar){\n",
        "    erroQuadratico <- 0\n",
        "\n",
        "    # Treino para todos os exemplos (epoca)\n",
        "    for(i in 1:nrow(dados)){\n",
        "\n",
        "      # Pego um exemplo de entrada\n",
        "      x.entrada <- dados[i,1:arq$num.entrada]\n",
        "      x.saida <- dados[i,ncol(dados)]\n",
        "\n",
        "      # Pego a saida da rede para o exemplo\n",
        "      resultado <- mlp.propagacao(arq,x.entrada)\n",
        "      y <- resultado$y.escondida.saida\n",
        "\n",
        "      # Calculo do erro para o exemplo\n",
        "      print(x.saida)\n",
        "      print(y)\n",
        "\n",
        "      erro <- x.saida - y\n",
        "\n",
        "      # Soma erro quadratico\n",
        "      erroQuadratico <- erroQuadratico + erro*erro\n",
        "\n",
        "      # Gradiente local no neuronio de saida\n",
        "      # erro * derivada da funcao de ativacao\n",
        "      grad.local.saida <- erro * arq$der.funcao.ativacao(y)\n",
        "\n",
        "      # Gradiente local no neuronio escondido\n",
        "      # derivada da funcao de ativacao no neuronio escondido * soma dos gradientes\n",
        "      # locais dos neuronios conectados na proxima camada * pesos conectando a camada\n",
        "      # escondida com a saida\n",
        "      pesos.saida <- arq$saida[,1:arq$num.escondida]\n",
        "      grad.local.escondida <-\n",
        "        as.numeric(arq$der.funcao.ativacao(resultado$y.entrada.escondida)) *\n",
        "        (grad.local.saida %*% pesos.saida)\n",
        "\n",
        "      # Ajuste dos pesos\n",
        "      # Saida\n",
        "      arq$saida <- arq$saida + n * (grad.local.saida %*%\n",
        "                                     c(resultado$y.entrada.escondida,1))\n",
        "      # Escondida\n",
        "      arq$escondida <- arq$escondida + n * (t(grad.local.escondida) %*%\n",
        "                                             as.numeric(c(x.entrada,1)))\n",
        "    } # Fim for(i in 1:nrow(dados))\n",
        "\n",
        "    print(nrow(dados))\n",
        "    erroQuadratico <- erroQuadratico / nrow(dados)\n",
        "    cat(\"Erro Quadratico Medio = \",erroQuadratico, \"\\n\")\n",
        "    epocas <- epocas+1\n",
        "    \n",
        "  } # Fim while(erroQuadratico > limiar)\n",
        "\n",
        "  retorno <- list()\n",
        "  retorno$arq <- arq\n",
        "  retorno$epocas <- epocas\n",
        "\n",
        "  return(retorno)\n",
        "}"
      ],
      "execution_count": 9,
      "outputs": []
    },
    {
      "cell_type": "code",
      "metadata": {
        "id": "fbCgBpEMOY5I",
        "colab": {
          "base_uri": "https://localhost:8080/",
          "height": 385
        },
        "outputId": "97ea2d12-f4c8-4020-a49d-1cc5087cf2ed"
      },
      "source": [
        "# Leitura de uma tabela com os dados do problema XOR\n",
        "dados <- read.csv('sample_data/adult.data', header=FALSE, strip.white=TRUE)\n",
        "head(dados)"
      ],
      "execution_count": 10,
      "outputs": [
        {
          "output_type": "display_data",
          "data": {
            "text/plain": [
              "  V1 V2               V3     V4        V5 V6                 V7               \n",
              "1 39 State-gov         77516 Bachelors 13 Never-married      Adm-clerical     \n",
              "2 50 Self-emp-not-inc  83311 Bachelors 13 Married-civ-spouse Exec-managerial  \n",
              "3 38 Private          215646 HS-grad    9 Divorced           Handlers-cleaners\n",
              "4 53 Private          234721 11th       7 Married-civ-spouse Handlers-cleaners\n",
              "5 28 Private          338409 Bachelors 13 Married-civ-spouse Prof-specialty   \n",
              "6 37 Private          284582 Masters   14 Married-civ-spouse Exec-managerial  \n",
              "  V8            V9    V10    V11  V12 V13 V14           V15  \n",
              "1 Not-in-family White Male   2174 0   40  United-States <=50K\n",
              "2 Husband       White Male      0 0   13  United-States <=50K\n",
              "3 Not-in-family White Male      0 0   40  United-States <=50K\n",
              "4 Husband       Black Male      0 0   40  United-States <=50K\n",
              "5 Wife          Black Female    0 0   40  Cuba          <=50K\n",
              "6 Wife          White Female    0 0   40  United-States <=50K"
            ],
            "text/latex": "A data.frame: 6 × 15\n\\begin{tabular}{r|lllllllllllllll}\n  & V1 & V2 & V3 & V4 & V5 & V6 & V7 & V8 & V9 & V10 & V11 & V12 & V13 & V14 & V15\\\\\n  & <int> & <chr> & <int> & <chr> & <int> & <chr> & <chr> & <chr> & <chr> & <chr> & <int> & <int> & <int> & <chr> & <chr>\\\\\n\\hline\n\t1 & 39 & State-gov        &  77516 & Bachelors & 13 & Never-married      & Adm-clerical      & Not-in-family & White & Male   & 2174 & 0 & 40 & United-States & <=50K\\\\\n\t2 & 50 & Self-emp-not-inc &  83311 & Bachelors & 13 & Married-civ-spouse & Exec-managerial   & Husband       & White & Male   &    0 & 0 & 13 & United-States & <=50K\\\\\n\t3 & 38 & Private          & 215646 & HS-grad   &  9 & Divorced           & Handlers-cleaners & Not-in-family & White & Male   &    0 & 0 & 40 & United-States & <=50K\\\\\n\t4 & 53 & Private          & 234721 & 11th      &  7 & Married-civ-spouse & Handlers-cleaners & Husband       & Black & Male   &    0 & 0 & 40 & United-States & <=50K\\\\\n\t5 & 28 & Private          & 338409 & Bachelors & 13 & Married-civ-spouse & Prof-specialty    & Wife          & Black & Female &    0 & 0 & 40 & Cuba          & <=50K\\\\\n\t6 & 37 & Private          & 284582 & Masters   & 14 & Married-civ-spouse & Exec-managerial   & Wife          & White & Female &    0 & 0 & 40 & United-States & <=50K\\\\\n\\end{tabular}\n",
            "text/markdown": "\nA data.frame: 6 × 15\n\n| <!--/--> | V1 &lt;int&gt; | V2 &lt;chr&gt; | V3 &lt;int&gt; | V4 &lt;chr&gt; | V5 &lt;int&gt; | V6 &lt;chr&gt; | V7 &lt;chr&gt; | V8 &lt;chr&gt; | V9 &lt;chr&gt; | V10 &lt;chr&gt; | V11 &lt;int&gt; | V12 &lt;int&gt; | V13 &lt;int&gt; | V14 &lt;chr&gt; | V15 &lt;chr&gt; |\n|---|---|---|---|---|---|---|---|---|---|---|---|---|---|---|---|\n| 1 | 39 | State-gov        |  77516 | Bachelors | 13 | Never-married      | Adm-clerical      | Not-in-family | White | Male   | 2174 | 0 | 40 | United-States | &lt;=50K |\n| 2 | 50 | Self-emp-not-inc |  83311 | Bachelors | 13 | Married-civ-spouse | Exec-managerial   | Husband       | White | Male   |    0 | 0 | 13 | United-States | &lt;=50K |\n| 3 | 38 | Private          | 215646 | HS-grad   |  9 | Divorced           | Handlers-cleaners | Not-in-family | White | Male   |    0 | 0 | 40 | United-States | &lt;=50K |\n| 4 | 53 | Private          | 234721 | 11th      |  7 | Married-civ-spouse | Handlers-cleaners | Husband       | Black | Male   |    0 | 0 | 40 | United-States | &lt;=50K |\n| 5 | 28 | Private          | 338409 | Bachelors | 13 | Married-civ-spouse | Prof-specialty    | Wife          | Black | Female |    0 | 0 | 40 | Cuba          | &lt;=50K |\n| 6 | 37 | Private          | 284582 | Masters   | 14 | Married-civ-spouse | Exec-managerial   | Wife          | White | Female |    0 | 0 | 40 | United-States | &lt;=50K |\n\n",
            "text/html": [
              "<table class=\"dataframe\">\n",
              "<caption>A data.frame: 6 × 15</caption>\n",
              "<thead>\n",
              "\t<tr><th></th><th scope=col>V1</th><th scope=col>V2</th><th scope=col>V3</th><th scope=col>V4</th><th scope=col>V5</th><th scope=col>V6</th><th scope=col>V7</th><th scope=col>V8</th><th scope=col>V9</th><th scope=col>V10</th><th scope=col>V11</th><th scope=col>V12</th><th scope=col>V13</th><th scope=col>V14</th><th scope=col>V15</th></tr>\n",
              "\t<tr><th></th><th scope=col>&lt;int&gt;</th><th scope=col>&lt;chr&gt;</th><th scope=col>&lt;int&gt;</th><th scope=col>&lt;chr&gt;</th><th scope=col>&lt;int&gt;</th><th scope=col>&lt;chr&gt;</th><th scope=col>&lt;chr&gt;</th><th scope=col>&lt;chr&gt;</th><th scope=col>&lt;chr&gt;</th><th scope=col>&lt;chr&gt;</th><th scope=col>&lt;int&gt;</th><th scope=col>&lt;int&gt;</th><th scope=col>&lt;int&gt;</th><th scope=col>&lt;chr&gt;</th><th scope=col>&lt;chr&gt;</th></tr>\n",
              "</thead>\n",
              "<tbody>\n",
              "\t<tr><th scope=row>1</th><td>39</td><td><span style=white-space:pre-wrap>State-gov       </span></td><td> 77516</td><td>Bachelors</td><td>13</td><td><span style=white-space:pre-wrap>Never-married     </span></td><td><span style=white-space:pre-wrap>Adm-clerical     </span></td><td>Not-in-family</td><td>White</td><td><span style=white-space:pre-wrap>Male  </span></td><td>2174</td><td>0</td><td>40</td><td>United-States</td><td>&lt;=50K</td></tr>\n",
              "\t<tr><th scope=row>2</th><td>50</td><td>Self-emp-not-inc</td><td> 83311</td><td>Bachelors</td><td>13</td><td>Married-civ-spouse</td><td><span style=white-space:pre-wrap>Exec-managerial  </span></td><td><span style=white-space:pre-wrap>Husband      </span></td><td>White</td><td><span style=white-space:pre-wrap>Male  </span></td><td><span style=white-space:pre-wrap>   0</span></td><td>0</td><td>13</td><td>United-States</td><td>&lt;=50K</td></tr>\n",
              "\t<tr><th scope=row>3</th><td>38</td><td><span style=white-space:pre-wrap>Private         </span></td><td>215646</td><td><span style=white-space:pre-wrap>HS-grad  </span></td><td> 9</td><td><span style=white-space:pre-wrap>Divorced          </span></td><td>Handlers-cleaners</td><td>Not-in-family</td><td>White</td><td><span style=white-space:pre-wrap>Male  </span></td><td><span style=white-space:pre-wrap>   0</span></td><td>0</td><td>40</td><td>United-States</td><td>&lt;=50K</td></tr>\n",
              "\t<tr><th scope=row>4</th><td>53</td><td><span style=white-space:pre-wrap>Private         </span></td><td>234721</td><td><span style=white-space:pre-wrap>11th     </span></td><td> 7</td><td>Married-civ-spouse</td><td>Handlers-cleaners</td><td><span style=white-space:pre-wrap>Husband      </span></td><td>Black</td><td><span style=white-space:pre-wrap>Male  </span></td><td><span style=white-space:pre-wrap>   0</span></td><td>0</td><td>40</td><td>United-States</td><td>&lt;=50K</td></tr>\n",
              "\t<tr><th scope=row>5</th><td>28</td><td><span style=white-space:pre-wrap>Private         </span></td><td>338409</td><td>Bachelors</td><td>13</td><td>Married-civ-spouse</td><td><span style=white-space:pre-wrap>Prof-specialty   </span></td><td><span style=white-space:pre-wrap>Wife         </span></td><td>Black</td><td>Female</td><td><span style=white-space:pre-wrap>   0</span></td><td>0</td><td>40</td><td><span style=white-space:pre-wrap>Cuba         </span></td><td>&lt;=50K</td></tr>\n",
              "\t<tr><th scope=row>6</th><td>37</td><td><span style=white-space:pre-wrap>Private         </span></td><td>284582</td><td><span style=white-space:pre-wrap>Masters  </span></td><td>14</td><td>Married-civ-spouse</td><td><span style=white-space:pre-wrap>Exec-managerial  </span></td><td><span style=white-space:pre-wrap>Wife         </span></td><td>White</td><td>Female</td><td><span style=white-space:pre-wrap>   0</span></td><td>0</td><td>40</td><td>United-States</td><td>&lt;=50K</td></tr>\n",
              "</tbody>\n",
              "</table>\n"
            ]
          },
          "metadata": {
            "tags": []
          }
        }
      ]
    },
    {
      "cell_type": "code",
      "metadata": {
        "id": "Kk8feGvCDZxq",
        "colab": {
          "base_uri": "https://localhost:8080/",
          "height": 510
        },
        "outputId": "e5c130a8-618c-42ac-d705-5b2680694a90"
      },
      "source": [
        "colnames(dados) <- c(\"age\",\n",
        "                     \"workclass\", \n",
        "                     \"fnlwgt\",\n",
        "                     \"education\",\n",
        "                     \"education-num\",\n",
        "                     \"marital\",\n",
        "                      \"occupation\",\n",
        "                      \"relationship\",\n",
        "                      \"race\",\n",
        "                      \"sex\", \n",
        "                      \"capital-gain\", \n",
        "                      \"capital-loss\",\n",
        "                      \"hours-per-week\",\n",
        "                      \"country\",\n",
        "                      \"income\"\n",
        ")\n",
        "\n",
        "dim(dados)\n",
        "summary(dados)"
      ],
      "execution_count": 11,
      "outputs": [
        {
          "output_type": "display_data",
          "data": {
            "text/plain": [
              "[1] 32561    15"
            ],
            "text/latex": "\\begin{enumerate*}\n\\item 32561\n\\item 15\n\\end{enumerate*}\n",
            "text/markdown": "1. 32561\n2. 15\n\n\n",
            "text/html": [
              "<style>\n",
              ".list-inline {list-style: none; margin:0; padding: 0}\n",
              ".list-inline>li {display: inline-block}\n",
              ".list-inline>li:not(:last-child)::after {content: \"\\00b7\"; padding: 0 .5ex}\n",
              "</style>\n",
              "<ol class=list-inline><li>32561</li><li>15</li></ol>\n"
            ]
          },
          "metadata": {
            "tags": []
          }
        },
        {
          "output_type": "display_data",
          "data": {
            "text/plain": [
              "      age         workclass             fnlwgt         education        \n",
              " Min.   :17.00   Length:32561       Min.   :  12285   Length:32561      \n",
              " 1st Qu.:28.00   Class :character   1st Qu.: 117827   Class :character  \n",
              " Median :37.00   Mode  :character   Median : 178356   Mode  :character  \n",
              " Mean   :38.58                      Mean   : 189778                     \n",
              " 3rd Qu.:48.00                      3rd Qu.: 237051                     \n",
              " Max.   :90.00                      Max.   :1484705                     \n",
              " education-num     marital           occupation        relationship      \n",
              " Min.   : 1.00   Length:32561       Length:32561       Length:32561      \n",
              " 1st Qu.: 9.00   Class :character   Class :character   Class :character  \n",
              " Median :10.00   Mode  :character   Mode  :character   Mode  :character  \n",
              " Mean   :10.08                                                           \n",
              " 3rd Qu.:12.00                                                           \n",
              " Max.   :16.00                                                           \n",
              "     race               sex             capital-gain    capital-loss   \n",
              " Length:32561       Length:32561       Min.   :    0   Min.   :   0.0  \n",
              " Class :character   Class :character   1st Qu.:    0   1st Qu.:   0.0  \n",
              " Mode  :character   Mode  :character   Median :    0   Median :   0.0  \n",
              "                                       Mean   : 1078   Mean   :  87.3  \n",
              "                                       3rd Qu.:    0   3rd Qu.:   0.0  \n",
              "                                       Max.   :99999   Max.   :4356.0  \n",
              " hours-per-week    country             income         \n",
              " Min.   : 1.00   Length:32561       Length:32561      \n",
              " 1st Qu.:40.00   Class :character   Class :character  \n",
              " Median :40.00   Mode  :character   Mode  :character  \n",
              " Mean   :40.44                                        \n",
              " 3rd Qu.:45.00                                        \n",
              " Max.   :99.00                                        "
            ]
          },
          "metadata": {
            "tags": []
          }
        }
      ]
    },
    {
      "cell_type": "code",
      "metadata": {
        "id": "6VtGN2XtWZNL",
        "colab": {
          "base_uri": "https://localhost:8080/"
        },
        "outputId": "b0369eb1-5c95-458e-ce62-3f9a94c13f33"
      },
      "source": [
        "str(dados)"
      ],
      "execution_count": 12,
      "outputs": [
        {
          "output_type": "stream",
          "text": [
            "'data.frame':\t32561 obs. of  15 variables:\n",
            " $ age           : int  39 50 38 53 28 37 49 52 31 42 ...\n",
            " $ workclass     : chr  \"State-gov\" \"Self-emp-not-inc\" \"Private\" \"Private\" ...\n",
            " $ fnlwgt        : int  77516 83311 215646 234721 338409 284582 160187 209642 45781 159449 ...\n",
            " $ education     : chr  \"Bachelors\" \"Bachelors\" \"HS-grad\" \"11th\" ...\n",
            " $ education-num : int  13 13 9 7 13 14 5 9 14 13 ...\n",
            " $ marital       : chr  \"Never-married\" \"Married-civ-spouse\" \"Divorced\" \"Married-civ-spouse\" ...\n",
            " $ occupation    : chr  \"Adm-clerical\" \"Exec-managerial\" \"Handlers-cleaners\" \"Handlers-cleaners\" ...\n",
            " $ relationship  : chr  \"Not-in-family\" \"Husband\" \"Not-in-family\" \"Husband\" ...\n",
            " $ race          : chr  \"White\" \"White\" \"White\" \"Black\" ...\n",
            " $ sex           : chr  \"Male\" \"Male\" \"Male\" \"Male\" ...\n",
            " $ capital-gain  : int  2174 0 0 0 0 0 0 0 14084 5178 ...\n",
            " $ capital-loss  : int  0 0 0 0 0 0 0 0 0 0 ...\n",
            " $ hours-per-week: int  40 13 40 40 40 40 16 45 50 40 ...\n",
            " $ country       : chr  \"United-States\" \"United-States\" \"United-States\" \"United-States\" ...\n",
            " $ income        : chr  \"<=50K\" \"<=50K\" \"<=50K\" \"<=50K\" ...\n"
          ],
          "name": "stdout"
        }
      ]
    },
    {
      "cell_type": "code",
      "metadata": {
        "id": "NjxBb6LJW3T0",
        "colab": {
          "base_uri": "https://localhost:8080/",
          "height": 68
        },
        "outputId": "5dd879a7-9710-4864-9239-b1f778f77c40"
      },
      "source": [
        "prop.table(table(dados$income))"
      ],
      "execution_count": 13,
      "outputs": [
        {
          "output_type": "display_data",
          "data": {
            "text/plain": [
              "\n",
              "    <=50K      >50K \n",
              "0.7591904 0.2408096 "
            ]
          },
          "metadata": {
            "tags": []
          }
        }
      ]
    },
    {
      "cell_type": "code",
      "metadata": {
        "id": "Gk9exDsdYn_E",
        "colab": {
          "base_uri": "https://localhost:8080/"
        },
        "outputId": "38cafdb3-1d7f-4116-a088-128051be07f2"
      },
      "source": [
        "#dados$education <- as.factor(dados$education)\n",
        "#dados$workclass <- as.factor(dados$workclass)\n",
        "#dados$occupation <- as.factor(dados$occupation)\n",
        "#dados$relationship <- as.factor(dados$relationship)\n",
        "#dados$race <- as.factor(dados$race)\n",
        "#dados$sex <- as.factor(dados$sex)\n",
        "#dados$income <- as.factor(dados$income)\n",
        "#dados$\"marital-status\" <- as.factor(dados$\"marital-status\")\n",
        "#dados$\"native-country\" <- as.factor(dados$\"native-country\")\n",
        "\n",
        "str(dados)"
      ],
      "execution_count": 14,
      "outputs": [
        {
          "output_type": "stream",
          "text": [
            "'data.frame':\t32561 obs. of  15 variables:\n",
            " $ age           : int  39 50 38 53 28 37 49 52 31 42 ...\n",
            " $ workclass     : chr  \"State-gov\" \"Self-emp-not-inc\" \"Private\" \"Private\" ...\n",
            " $ fnlwgt        : int  77516 83311 215646 234721 338409 284582 160187 209642 45781 159449 ...\n",
            " $ education     : chr  \"Bachelors\" \"Bachelors\" \"HS-grad\" \"11th\" ...\n",
            " $ education-num : int  13 13 9 7 13 14 5 9 14 13 ...\n",
            " $ marital       : chr  \"Never-married\" \"Married-civ-spouse\" \"Divorced\" \"Married-civ-spouse\" ...\n",
            " $ occupation    : chr  \"Adm-clerical\" \"Exec-managerial\" \"Handlers-cleaners\" \"Handlers-cleaners\" ...\n",
            " $ relationship  : chr  \"Not-in-family\" \"Husband\" \"Not-in-family\" \"Husband\" ...\n",
            " $ race          : chr  \"White\" \"White\" \"White\" \"Black\" ...\n",
            " $ sex           : chr  \"Male\" \"Male\" \"Male\" \"Male\" ...\n",
            " $ capital-gain  : int  2174 0 0 0 0 0 0 0 14084 5178 ...\n",
            " $ capital-loss  : int  0 0 0 0 0 0 0 0 0 0 ...\n",
            " $ hours-per-week: int  40 13 40 40 40 40 16 45 50 40 ...\n",
            " $ country       : chr  \"United-States\" \"United-States\" \"United-States\" \"United-States\" ...\n",
            " $ income        : chr  \"<=50K\" \"<=50K\" \"<=50K\" \"<=50K\" ...\n"
          ],
          "name": "stdout"
        }
      ]
    },
    {
      "cell_type": "code",
      "metadata": {
        "id": "DG6j2FKTmowB",
        "colab": {
          "base_uri": "https://localhost:8080/",
          "height": 51
        },
        "outputId": "d58f0769-75c8-44c1-9fdb-b999cc2ec363"
      },
      "source": [
        "\n",
        "# Vamos remover elementos nulos \n",
        "\n",
        "# a. Número de exemplos\n",
        "8080\n",
        "# b. Número de atributos\n",
        "dim(dados)"
      ],
      "execution_count": 15,
      "outputs": [
        {
          "output_type": "display_data",
          "data": {
            "text/plain": [
              "[1] 8080"
            ],
            "text/latex": "8080",
            "text/markdown": "8080",
            "text/html": [
              "8080"
            ]
          },
          "metadata": {
            "tags": []
          }
        },
        {
          "output_type": "display_data",
          "data": {
            "text/plain": [
              "[1] 32561    15"
            ],
            "text/latex": "\\begin{enumerate*}\n\\item 32561\n\\item 15\n\\end{enumerate*}\n",
            "text/markdown": "1. 32561\n2. 15\n\n\n",
            "text/html": [
              "<style>\n",
              ".list-inline {list-style: none; margin:0; padding: 0}\n",
              ".list-inline>li {display: inline-block}\n",
              ".list-inline>li:not(:last-child)::after {content: \"\\00b7\"; padding: 0 .5ex}\n",
              "</style>\n",
              "<ol class=list-inline><li>32561</li><li>15</li></ol>\n"
            ]
          },
          "metadata": {
            "tags": []
          }
        }
      ]
    },
    {
      "cell_type": "code",
      "metadata": {
        "id": "1XtyCb6osgW7",
        "colab": {
          "base_uri": "https://localhost:8080/"
        },
        "outputId": "11cd474d-c075-4e47-dbf9-e88b0f7328dc"
      },
      "source": [
        "# c. Número de atributos numéricos\n",
        "print(6)\n"
      ],
      "execution_count": 16,
      "outputs": [
        {
          "output_type": "stream",
          "text": [
            "[1] 6\n"
          ],
          "name": "stdout"
        }
      ]
    },
    {
      "cell_type": "code",
      "metadata": {
        "id": "8tZ71QnNssSL",
        "colab": {
          "base_uri": "https://localhost:8080/"
        },
        "outputId": "db2669b5-fe0e-45de-c731-083f753c0985"
      },
      "source": [
        "\n",
        "# d. Número de atributos categóricos\n",
        "print(9)\n"
      ],
      "execution_count": 17,
      "outputs": [
        {
          "output_type": "stream",
          "text": [
            "[1] 9\n"
          ],
          "name": "stdout"
        }
      ]
    },
    {
      "cell_type": "code",
      "metadata": {
        "id": "QIfNofKbsqEK",
        "colab": {
          "base_uri": "https://localhost:8080/",
          "height": 34
        },
        "outputId": "c4ca13db-6eb2-411d-b8bb-3120bab2e304"
      },
      "source": [
        "# e. Número de atributos com valores ausentes\n",
        "\n",
        "length(dados[dados == \"?\"])\n"
      ],
      "execution_count": 18,
      "outputs": [
        {
          "output_type": "display_data",
          "data": {
            "text/plain": [
              "[1] 4262"
            ],
            "text/latex": "4262",
            "text/markdown": "4262",
            "text/html": [
              "4262"
            ]
          },
          "metadata": {
            "tags": []
          }
        }
      ]
    },
    {
      "cell_type": "code",
      "metadata": {
        "id": "3M7BcIKN95qL",
        "colab": {
          "base_uri": "https://localhost:8080/",
          "height": 68
        },
        "outputId": "96b30da0-9087-441e-f4a2-15909c804573"
      },
      "source": [
        "# Ajusta os dados de saída \n",
        "# Não muito balanceado\n",
        "# \"<=50K\",\">50K\"\n",
        "\n",
        "dados$income[dados$income == \"<=50K\"] <- 1\n",
        "dados$income[dados$income == \">50K\"] <- 0\n",
        "\n",
        "dados$income = as.numeric(as.character(dados$income))\n",
        "\n",
        "table(dados$income)"
      ],
      "execution_count": 19,
      "outputs": [
        {
          "output_type": "display_data",
          "data": {
            "text/plain": [
              "\n",
              "    0     1 \n",
              " 7841 24720 "
            ]
          },
          "metadata": {
            "tags": []
          }
        }
      ]
    },
    {
      "cell_type": "code",
      "metadata": {
        "id": "maD7oGPNtKjq",
        "colab": {
          "base_uri": "https://localhost:8080/",
          "height": 136
        },
        "outputId": "86de41c0-9bd4-4edc-9e97-0b91b1641b72"
      },
      "source": [
        "# Arrumando os dados faltantes \n",
        "# Foi utilizada a estratégia de moda para todos os elementos\n",
        "\n",
        "dados$workclass[dados$workclass == \"?\"] <- mode(dados$workclass)\n",
        "table(dados$workclass)"
      ],
      "execution_count": 20,
      "outputs": [
        {
          "output_type": "display_data",
          "data": {
            "text/plain": [
              "\n",
              "       character      Federal-gov        Local-gov     Never-worked \n",
              "            1836              960             2093                7 \n",
              "         Private     Self-emp-inc Self-emp-not-inc        State-gov \n",
              "           22696             1116             2541             1298 \n",
              "     Without-pay \n",
              "              14 "
            ]
          },
          "metadata": {
            "tags": []
          }
        }
      ]
    },
    {
      "cell_type": "code",
      "metadata": {
        "id": "GUHsrLeT1PxK",
        "colab": {
          "base_uri": "https://localhost:8080/",
          "height": 136
        },
        "outputId": "8be1ef40-8699-4c34-ca30-408599858010"
      },
      "source": [
        "dados$education[dados$education == \"?\"] <- mode(dados$education)\n",
        "table(dados$education)"
      ],
      "execution_count": 21,
      "outputs": [
        {
          "output_type": "display_data",
          "data": {
            "text/plain": [
              "\n",
              "        10th         11th         12th      1st-4th      5th-6th      7th-8th \n",
              "         933         1175          433          168          333          646 \n",
              "         9th   Assoc-acdm    Assoc-voc    Bachelors    Doctorate      HS-grad \n",
              "         514         1067         1382         5355          413        10501 \n",
              "     Masters    Preschool  Prof-school Some-college \n",
              "        1723           51          576         7291 "
            ]
          },
          "metadata": {
            "tags": []
          }
        }
      ]
    },
    {
      "cell_type": "code",
      "metadata": {
        "id": "r_rcE0ah1ivC",
        "colab": {
          "base_uri": "https://localhost:8080/",
          "height": 170
        },
        "outputId": "fbcb6506-914f-4851-f011-a5462d81a19e"
      },
      "source": [
        "dados$occupation[dados$occupation == \"?\"] <- mode(dados$occupation)\n",
        "table(dados$occupation)"
      ],
      "execution_count": 22,
      "outputs": [
        {
          "output_type": "display_data",
          "data": {
            "text/plain": [
              "\n",
              "     Adm-clerical      Armed-Forces         character      Craft-repair \n",
              "             3770                 9              1843              4099 \n",
              "  Exec-managerial   Farming-fishing Handlers-cleaners Machine-op-inspct \n",
              "             4066               994              1370              2002 \n",
              "    Other-service   Priv-house-serv    Prof-specialty   Protective-serv \n",
              "             3295               149              4140               649 \n",
              "            Sales      Tech-support  Transport-moving \n",
              "             3650               928              1597 "
            ]
          },
          "metadata": {
            "tags": []
          }
        }
      ]
    },
    {
      "cell_type": "code",
      "metadata": {
        "id": "_l39G1ca1i2E",
        "colab": {
          "base_uri": "https://localhost:8080/",
          "height": 102
        },
        "outputId": "c4d70a1b-eb43-4a5f-ec1e-a1d6af3c2c4d"
      },
      "source": [
        "dados$relationship[dados$relationship == \"?\"] <- mode(dados$relationship)\n",
        "table(dados$relationship)"
      ],
      "execution_count": 23,
      "outputs": [
        {
          "output_type": "display_data",
          "data": {
            "text/plain": [
              "\n",
              "       Husband  Not-in-family Other-relative      Own-child      Unmarried \n",
              "         13193           8305            981           5068           3446 \n",
              "          Wife \n",
              "          1568 "
            ]
          },
          "metadata": {
            "tags": []
          }
        }
      ]
    },
    {
      "cell_type": "code",
      "metadata": {
        "id": "eYgDZtHP1i-H",
        "colab": {
          "base_uri": "https://localhost:8080/",
          "height": 102
        },
        "outputId": "9920d08b-d854-44b9-e864-6a8452159c46"
      },
      "source": [
        "dados$race[dados$race == \"?\"] <- mode(dados$race)\n",
        "table(dados$race)"
      ],
      "execution_count": 24,
      "outputs": [
        {
          "output_type": "display_data",
          "data": {
            "text/plain": [
              "\n",
              "Amer-Indian-Eskimo Asian-Pac-Islander              Black              Other \n",
              "               311               1039               3124                271 \n",
              "             White \n",
              "             27816 "
            ]
          },
          "metadata": {
            "tags": []
          }
        }
      ]
    },
    {
      "cell_type": "code",
      "metadata": {
        "id": "3_cz_I201jG_",
        "colab": {
          "base_uri": "https://localhost:8080/",
          "height": 68
        },
        "outputId": "f107125b-e1fc-43f0-aaa7-62f04554f1a7"
      },
      "source": [
        "dados$sex[dados$sex == \"?\"] <- mode(dados$sex)\n",
        "table(dados$sex)"
      ],
      "execution_count": 25,
      "outputs": [
        {
          "output_type": "display_data",
          "data": {
            "text/plain": [
              "\n",
              "Female   Male \n",
              " 10771  21790 "
            ]
          },
          "metadata": {
            "tags": []
          }
        }
      ]
    },
    {
      "cell_type": "code",
      "metadata": {
        "id": "OVUtE9DC1jwr",
        "colab": {
          "base_uri": "https://localhost:8080/",
          "height": 136
        },
        "outputId": "76548252-6f4d-4e15-a13f-d7e1772bfb5c"
      },
      "source": [
        "dados$\"marital\"[dados$\"marital\"  == \"?\"] <- mode(dados$\"marital\" )\n",
        "table(dados$\"marital\")"
      ],
      "execution_count": 26,
      "outputs": [
        {
          "output_type": "display_data",
          "data": {
            "text/plain": [
              "\n",
              "             Divorced     Married-AF-spouse    Married-civ-spouse \n",
              "                 4443                    23                 14976 \n",
              "Married-spouse-absent         Never-married             Separated \n",
              "                  418                 10683                  1025 \n",
              "              Widowed \n",
              "                  993 "
            ]
          },
          "metadata": {
            "tags": []
          }
        }
      ]
    },
    {
      "cell_type": "code",
      "metadata": {
        "id": "6Ablbpxu1gkN",
        "colab": {
          "base_uri": "https://localhost:8080/",
          "height": 748
        },
        "outputId": "288acaa9-7358-4bf9-e3e0-afe06e36955f"
      },
      "source": [
        "dados$\"country\"[dados$\"country\" == \"?\"] <- mode(dados$\"country\")\n",
        "table(dados$\"country\")"
      ],
      "execution_count": 27,
      "outputs": [
        {
          "output_type": "display_data",
          "data": {
            "text/plain": [
              "\n",
              "                  Cambodia                     Canada \n",
              "                        19                        121 \n",
              "                 character                      China \n",
              "                       583                         75 \n",
              "                  Columbia                       Cuba \n",
              "                        59                         95 \n",
              "        Dominican-Republic                    Ecuador \n",
              "                        70                         28 \n",
              "               El-Salvador                    England \n",
              "                       106                         90 \n",
              "                    France                    Germany \n",
              "                        29                        137 \n",
              "                    Greece                  Guatemala \n",
              "                        29                         64 \n",
              "                     Haiti         Holand-Netherlands \n",
              "                        44                          1 \n",
              "                  Honduras                       Hong \n",
              "                        13                         20 \n",
              "                   Hungary                      India \n",
              "                        13                        100 \n",
              "                      Iran                    Ireland \n",
              "                        43                         24 \n",
              "                     Italy                    Jamaica \n",
              "                        73                         81 \n",
              "                     Japan                       Laos \n",
              "                        62                         18 \n",
              "                    Mexico                  Nicaragua \n",
              "                       643                         34 \n",
              "Outlying-US(Guam-USVI-etc)                       Peru \n",
              "                        14                         31 \n",
              "               Philippines                     Poland \n",
              "                       198                         60 \n",
              "                  Portugal                Puerto-Rico \n",
              "                        37                        114 \n",
              "                  Scotland                      South \n",
              "                        12                         80 \n",
              "                    Taiwan                   Thailand \n",
              "                        51                         18 \n",
              "           Trinadad&Tobago              United-States \n",
              "                        19                      29170 \n",
              "                   Vietnam                 Yugoslavia \n",
              "                        67                         16 "
            ]
          },
          "metadata": {
            "tags": []
          }
        }
      ]
    },
    {
      "cell_type": "code",
      "metadata": {
        "id": "-TmmOtZal9CP",
        "colab": {
          "base_uri": "https://localhost:8080/",
          "height": 34
        },
        "outputId": "6c114d81-6b08-4702-d456-0b9fd537407a"
      },
      "source": [
        "# Constatando que eliminamos todos os elementos nulos do conjunto\n",
        "length(dados[dados == \"?\"])"
      ],
      "execution_count": 28,
      "outputs": [
        {
          "output_type": "display_data",
          "data": {
            "text/plain": [
              "[1] 0"
            ],
            "text/latex": "0",
            "text/markdown": "0",
            "text/html": [
              "0"
            ]
          },
          "metadata": {
            "tags": []
          }
        }
      ]
    },
    {
      "cell_type": "code",
      "metadata": {
        "colab": {
          "base_uri": "https://localhost:8080/",
          "height": 437
        },
        "id": "zGSjlDCwYHk3",
        "outputId": "f73e3981-b1c0-4408-e5f7-13dd4a6cc32f"
      },
      "source": [
        "hist.data.frame(dados, na.big = TRUE, rugs = TRUE)"
      ],
      "execution_count": 29,
      "outputs": [
        {
          "output_type": "display_data",
          "data": {
            "image/png": "[encoded data removed]",
            "text/plain": [
              "Plot with title “”"
            ]
          },
          "metadata": {
            "tags": [],
            "image/png": {
              "width": 420,
              "height": 420
            }
          }
        }
      ]
    },
    {
      "cell_type": "code",
      "metadata": {
        "id": "49cf36eW5m1Y"
      },
      "source": [
        "# remove columnas que não conseguimos tratar\n",
        "\n",
        "dados <-  subset( dados, select = -education )\n",
        "dados <-  subset( dados, select = -occupation )\n",
        "dados <-  subset( dados, select = -workclass )\n",
        "dados <-  subset( dados, select = -relationship )\n",
        "dados <-  subset( dados, select = -race )\n",
        "dados <-  subset( dados, select = -sex )\n",
        "dados <-  subset( dados, select = -marital )\n",
        "dados <-  subset( dados, select = -country )\n",
        "\n",
        "#dados$workclass <- NA\n",
        "#dados$occupation <- NA\n",
        "#dados$relationship <- NA\n",
        "#dados$race <- NA\n",
        "#dados$sex <- NA\n",
        "#dados$\"marital-status\" <- NA\n",
        "#dados$\"native-country\" <- NA\n"
      ],
      "execution_count": 30,
      "outputs": []
    },
    {
      "cell_type": "code",
      "metadata": {
        "id": "s5ZIhDdSd2xO"
      },
      "source": [
        "# Vamos escolher aleatoriamente dados para treino e teste.\n",
        "# O conjunto de dados já está randomizado. \n",
        "# Assim, Vamos pegar os primeiros 1400 exemplos para treino e o restante para teste\n",
        "\n",
        "#dados.treino <- dados[0:20000,]\n",
        "#dados.teste <- dados[20000:32560,]\n",
        "\n",
        "dados.treino <- dados[0:1000,]\n",
        "dados.teste <- dados[1001:1500,]"
      ],
      "execution_count": 31,
      "outputs": []
    },
    {
      "cell_type": "code",
      "metadata": {
        "colab": {
          "base_uri": "https://localhost:8080/",
          "height": 283
        },
        "id": "qpV8FcgQDsJ2",
        "outputId": "ccd64929-0a0b-4e8c-8817-d6f5fdac0097"
      },
      "source": [
        "head(dados.treino)"
      ],
      "execution_count": 32,
      "outputs": [
        {
          "output_type": "display_data",
          "data": {
            "text/plain": [
              "  age fnlwgt education-num capital-gain capital-loss hours-per-week income\n",
              "1 39   77516 13            2174         0            40             1     \n",
              "2 50   83311 13               0         0            13             1     \n",
              "3 38  215646  9               0         0            40             1     \n",
              "4 53  234721  7               0         0            40             1     \n",
              "5 28  338409 13               0         0            40             1     \n",
              "6 37  284582 14               0         0            40             1     "
            ],
            "text/latex": "A data.frame: 6 × 7\n\\begin{tabular}{r|lllllll}\n  & age & fnlwgt & education-num & capital-gain & capital-loss & hours-per-week & income\\\\\n  & <int> & <int> & <int> & <int> & <int> & <int> & <dbl>\\\\\n\\hline\n\t1 & 39 &  77516 & 13 & 2174 & 0 & 40 & 1\\\\\n\t2 & 50 &  83311 & 13 &    0 & 0 & 13 & 1\\\\\n\t3 & 38 & 215646 &  9 &    0 & 0 & 40 & 1\\\\\n\t4 & 53 & 234721 &  7 &    0 & 0 & 40 & 1\\\\\n\t5 & 28 & 338409 & 13 &    0 & 0 & 40 & 1\\\\\n\t6 & 37 & 284582 & 14 &    0 & 0 & 40 & 1\\\\\n\\end{tabular}\n",
            "text/markdown": "\nA data.frame: 6 × 7\n\n| <!--/--> | age &lt;int&gt; | fnlwgt &lt;int&gt; | education-num &lt;int&gt; | capital-gain &lt;int&gt; | capital-loss &lt;int&gt; | hours-per-week &lt;int&gt; | income &lt;dbl&gt; |\n|---|---|---|---|---|---|---|---|\n| 1 | 39 |  77516 | 13 | 2174 | 0 | 40 | 1 |\n| 2 | 50 |  83311 | 13 |    0 | 0 | 13 | 1 |\n| 3 | 38 | 215646 |  9 |    0 | 0 | 40 | 1 |\n| 4 | 53 | 234721 |  7 |    0 | 0 | 40 | 1 |\n| 5 | 28 | 338409 | 13 |    0 | 0 | 40 | 1 |\n| 6 | 37 | 284582 | 14 |    0 | 0 | 40 | 1 |\n\n",
            "text/html": [
              "<table class=\"dataframe\">\n",
              "<caption>A data.frame: 6 × 7</caption>\n",
              "<thead>\n",
              "\t<tr><th></th><th scope=col>age</th><th scope=col>fnlwgt</th><th scope=col>education-num</th><th scope=col>capital-gain</th><th scope=col>capital-loss</th><th scope=col>hours-per-week</th><th scope=col>income</th></tr>\n",
              "\t<tr><th></th><th scope=col>&lt;int&gt;</th><th scope=col>&lt;int&gt;</th><th scope=col>&lt;int&gt;</th><th scope=col>&lt;int&gt;</th><th scope=col>&lt;int&gt;</th><th scope=col>&lt;int&gt;</th><th scope=col>&lt;dbl&gt;</th></tr>\n",
              "</thead>\n",
              "<tbody>\n",
              "\t<tr><th scope=row>1</th><td>39</td><td> 77516</td><td>13</td><td>2174</td><td>0</td><td>40</td><td>1</td></tr>\n",
              "\t<tr><th scope=row>2</th><td>50</td><td> 83311</td><td>13</td><td>   0</td><td>0</td><td>13</td><td>1</td></tr>\n",
              "\t<tr><th scope=row>3</th><td>38</td><td>215646</td><td> 9</td><td>   0</td><td>0</td><td>40</td><td>1</td></tr>\n",
              "\t<tr><th scope=row>4</th><td>53</td><td>234721</td><td> 7</td><td>   0</td><td>0</td><td>40</td><td>1</td></tr>\n",
              "\t<tr><th scope=row>5</th><td>28</td><td>338409</td><td>13</td><td>   0</td><td>0</td><td>40</td><td>1</td></tr>\n",
              "\t<tr><th scope=row>6</th><td>37</td><td>284582</td><td>14</td><td>   0</td><td>0</td><td>40</td><td>1</td></tr>\n",
              "</tbody>\n",
              "</table>\n"
            ]
          },
          "metadata": {
            "tags": []
          }
        }
      ]
    },
    {
      "cell_type": "code",
      "metadata": {
        "colab": {
          "base_uri": "https://localhost:8080/"
        },
        "id": "lw2botMfd-ty",
        "outputId": "1c8e88ca-4653-464b-8389-9ccd5a244cc4"
      },
      "source": [
        "# Vamos treinar nossa rede com 4 neurônios na camada escondida\n",
        "arq <- arquitetura(quantidade.colunas(dados),2,1,funcao.ativacao, der.funcao.ativacao)\n",
        "print(arq)\n"
      ],
      "execution_count": 33,
      "outputs": [
        {
          "output_type": "stream",
          "text": [
            "$num.entrada\n",
            "[1] 7\n",
            "\n",
            "$num.escondida\n",
            "[1] 2\n",
            "\n",
            "$num.saida\n",
            "[1] 1\n",
            "\n",
            "$funcao.ativacao\n",
            "function(v){\n",
            "\n",
            "  # Função logística\n",
            "  y <- 1 / (1 + exp(-v))\n",
            "\n",
            "  return(y)\n",
            "}\n",
            "\n",
            "$der.funcao.ativacao\n",
            "function(y){\n",
            "\n",
            "  # Derivada da logística\n",
            "  derivada <- y * (1 - y)\n",
            "\n",
            "  return(derivada)\n",
            "}\n",
            "\n",
            "$escondida\n",
            "           [,1]       [,2]      [,3]       [,4]         [,5]       [,6]\n",
            "[1,] -0.2507378 -0.4371286 0.4864655  0.3678896 -0.353000618 -0.3709676\n",
            "[2,] -0.4365850 -0.1727914 0.2793809 -0.3175108  0.000591818  0.3890569\n",
            "           [,7]        [,8]\n",
            "[1,] -0.4660489 -0.02061543\n",
            "[2,]  0.3860328  0.34706569\n",
            "\n",
            "$saida\n",
            "           [,1]      [,2]      [,3]\n",
            "[1,] -0.1528218 0.2293928 0.3916629\n",
            "\n"
          ],
          "name": "stdout"
        }
      ]
    },
    {
      "cell_type": "code",
      "metadata": {
        "id": "3QeNq11aJ8Ka"
      },
      "source": [
        "modelo <- mlp.retropropagacao(arq,dados.treino,0.3,1e-3)\n",
        "print(modelo)"
      ],
      "execution_count": null,
      "outputs": []
    },
    {
      "cell_type": "code",
      "metadata": {
        "id": "MSWrTtule5eM"
      },
      "source": [
        "# Fazendo predicoes para cada exemplo de teste\n",
        "predicoes <- vector()\n",
        "for(i in 1:nrow(dados.teste)){\n",
        "\n",
        "  pred <- mlp.propagacao(modelo$arq,dados.teste[i,1:2])$y.escondida.saida\n",
        "    \n",
        "  predicoes <- c(predicoes,pred)\n",
        "}\n",
        "print(predicoes)"
      ],
      "execution_count": null,
      "outputs": []
    },
    {
      "cell_type": "code",
      "metadata": {
        "id": "ztLPOhr5e8-m"
      },
      "source": [
        "# Criando uma matriz para comparação dos resultados\n",
        "matriz.comparacao <- cbind(dados.teste[,3],predicoes)\n",
        "colnames(matriz.comparacao) <- c('V','P')\n",
        "print(matriz.comparacao)"
      ],
      "execution_count": null,
      "outputs": []
    },
    {
      "cell_type": "code",
      "metadata": {
        "id": "jRKFqPZMfAuk"
      },
      "source": [
        "# Matriz de confusão com o arredondamento das predições\n",
        "mc <- table(matriz.comparacao[,1],round(matriz.comparacao[,2]))\n",
        "print(mc)\n",
        "\n",
        "acc <- sum(diag(mc))/sum(mc)\n",
        "print(acc)\n",
        "sum(mc)\n",
        "sum(diag(mc))"
      ],
      "execution_count": null,
      "outputs": []
    },
    {
      "cell_type": "code",
      "metadata": {
        "id": "XA_yAptYiOZI"
      },
      "source": [
        ""
      ],
      "execution_count": null,
      "outputs": []
    },
    {
      "cell_type": "code",
      "metadata": {
        "id": "1tN5a_iBiQxd"
      },
      "source": [
        ""
      ],
      "execution_count": null,
      "outputs": []
    },
    {
      "cell_type": "code",
      "metadata": {
        "id": "CMJfGbxYiQ0O"
      },
      "source": [
        ""
      ],
      "execution_count": null,
      "outputs": []
    },
    {
      "cell_type": "code",
      "metadata": {
        "id": "ONjozX-IiQ2_"
      },
      "source": [
        ""
      ],
      "execution_count": null,
      "outputs": []
    },
    {
      "cell_type": "code",
      "metadata": {
        "id": "IcQ8WA53iQ5f"
      },
      "source": [
        ""
      ],
      "execution_count": null,
      "outputs": []
    },
    {
      "cell_type": "code",
      "metadata": {
        "id": "MoYnvhQJiQ9B"
      },
      "source": [
        ""
      ],
      "execution_count": null,
      "outputs": []
    },
    {
      "cell_type": "code",
      "metadata": {
        "id": "vw3ONPm9iOiQ"
      },
      "source": [
        ""
      ],
      "execution_count": null,
      "outputs": []
    },
    {
      "cell_type": "code",
      "metadata": {
        "id": "Uig9M2XYiOrI"
      },
      "source": [
        ""
      ],
      "execution_count": null,
      "outputs": []
    },
    {
      "cell_type": "code",
      "metadata": {
        "id": "5zbKxf0ZiOtw"
      },
      "source": [
        ""
      ],
      "execution_count": null,
      "outputs": []
    },
    {
      "cell_type": "code",
      "metadata": {
        "id": "u5aRieNUiOwZ"
      },
      "source": [
        ""
      ],
      "execution_count": null,
      "outputs": []
    },
    {
      "cell_type": "code",
      "metadata": {
        "id": "eXihqzLWiOy-"
      },
      "source": [
        ""
      ],
      "execution_count": null,
      "outputs": []
    },
    {
      "cell_type": "code",
      "metadata": {
        "id": "hGwRaJ5ciO1x"
      },
      "source": [
        ""
      ],
      "execution_count": null,
      "outputs": []
    },
    {
      "cell_type": "code",
      "metadata": {
        "id": "TTLUwP2WiO4a"
      },
      "source": [
        ""
      ],
      "execution_count": null,
      "outputs": []
    },
    {
      "cell_type": "code",
      "metadata": {
        "id": "5fenE1ZsiO7w"
      },
      "source": [
        "mat1 <- matrix(runif(min=-1,max=+1,4),nrow=1,ncol=4)\n",
        "print(mat1)\n",
        "\n",
        "exe <- c(1,2,0.5,1)\n",
        "print(exe)\n",
        "\n",
        "result <- mat1 %*% exe\n",
        "print(result)\n",
        "\n",
        "r1 <- mat1[1,1]*1 + mat1[1,2]*2 + mat1[1,3]*0.5 + mat1[1,4]*1\n",
        "print(r1)\n",
        "#r2 <- mat1[2,1]*1 + mat1[2,2]*2 + mat1[2,3]*0.5 + mat1[2,4]*1\n",
        "#print(r2)"
      ],
      "execution_count": null,
      "outputs": []
    }
  ]
}